{
 "cells": [
  {
   "cell_type": "code",
   "execution_count": 2,
   "id": "b0201e11",
   "metadata": {},
   "outputs": [
    {
     "name": "stdout",
     "output_type": "stream",
     "text": [
      "B\n"
     ]
    }
   ],
   "source": [
    "from numpy import tile, array\n",
    "\n",
    "\n",
    "def classify0(inx: array, dats_set: array, labels: array, k: int):\n",
    "    \"\"\"\n",
    "    原理：使用欧式距离公式：((xa0-xb0)**2-(xa1-xb1)**2)**0.5计算出输入点到各个点的欧式距离，按照距离从小到大排列，取出前前k个的类别出现的\n",
    "         频率，频率最高的一个的类别即为预测分类\n",
    "    :param inx: 输入向量\n",
    "    :param dats_set: 训练的数据集\n",
    "    :param labels: 标签向量\n",
    "    :param k: 最近邻数量\n",
    "    :return:\n",
    "    \"\"\"\n",
    "    # 通过shape获取行和列，返回的是包含两个元素的元组，即(行数，列数)\n",
    "    dats_set_size = dats_set.shape[0]\n",
    "    # numpy.tile(data,(x,y)) 将数据data扩展到x行y列\n",
    "    # 计算输入向量和训练集的距离差，即x1-x0\n",
    "    diff_mat = tile(inx, (dats_set_size, 1)) - dats_set\n",
    "    # 距离差的平方，即(x1-x0)^2\n",
    "    square_distance = diff_mat ** 2\n",
    "    # 对所有的距离差的平方进行求和\n",
    "    square_distance_sum = square_distance.sum(axis=1)\n",
    "    # 欧式距离\n",
    "    distance = square_distance_sum ** 0.5\n",
    "    # 对距离进行排序\n",
    "    sort_distance = distance.argsort()\n",
    "    # 训练数据\n",
    "    class_count_map = dict()\n",
    "    for i in range(k):\n",
    "        vote_label = labels[sort_distance[i]]\n",
    "        class_count_map.update({vote_label: class_count_map.get(vote_label, 0) + 1})\n",
    "    # 训练的结果\n",
    "    sort_class_count = sorted(class_count_map.items(), key=lambda x: x[1], reverse=True)\n",
    "    # 返回预测结果\n",
    "    return sort_class_count[0][0]\n",
    "\n",
    "\n",
    "def create_data_set_label():\n",
    "    data_set = array([[1.0, 1.1], [1.0, 1.0], [0, 0], [0, 0.1]])\n",
    "    labels = [\"A\", \"A\", \"B\", \"B\"]\n",
    "    return data_set, labels\n",
    "\n",
    "\n",
    "if __name__ == \"__main__\":\n",
    "    data_set, labels = create_data_set_label()\n",
    "    inx = [0, 0]\n",
    "    predict = classify0(inx, data_set, labels, 3)\n",
    "    print(predict)\n"
   ]
  },
  {
   "cell_type": "code",
   "execution_count": 5,
   "id": "4fedcc6d",
   "metadata": {},
   "outputs": [],
   "source": [
    "import tensorflow as tf\n",
    "features = tf.constant([12, 23, 10, 17])\n",
    "labels = tf.constant([0, 1, 1, 0])\n",
    "dataset = tf.data.Dataset.from_tensor_slices((features, labels))"
   ]
  },
  {
   "cell_type": "code",
   "execution_count": 6,
   "id": "d3f03a39",
   "metadata": {},
   "outputs": [
    {
     "data": {
      "text/plain": [
       "<tf.Tensor: shape=(4,), dtype=int32, numpy=array([12, 23, 10, 17], dtype=int32)>"
      ]
     },
     "execution_count": 6,
     "metadata": {},
     "output_type": "execute_result"
    }
   ],
   "source": [
    "features"
   ]
  },
  {
   "cell_type": "code",
   "execution_count": 7,
   "id": "ac1f0283",
   "metadata": {},
   "outputs": [
    {
     "data": {
      "text/plain": [
       "<tf.Tensor: shape=(4,), dtype=int32, numpy=array([0, 1, 1, 0], dtype=int32)>"
      ]
     },
     "execution_count": 7,
     "metadata": {},
     "output_type": "execute_result"
    }
   ],
   "source": [
    "labels"
   ]
  },
  {
   "cell_type": "code",
   "execution_count": 8,
   "id": "d80a98bc",
   "metadata": {},
   "outputs": [
    {
     "data": {
      "text/plain": [
       "<TensorSliceDataset element_spec=(TensorSpec(shape=(), dtype=tf.int32, name=None), TensorSpec(shape=(), dtype=tf.int32, name=None))>"
      ]
     },
     "execution_count": 8,
     "metadata": {},
     "output_type": "execute_result"
    }
   ],
   "source": [
    "dataset"
   ]
  },
  {
   "cell_type": "code",
   "execution_count": 9,
   "id": "b0be9a99",
   "metadata": {},
   "outputs": [
    {
     "name": "stdout",
     "output_type": "stream",
     "text": [
      "(<tf.Tensor: shape=(), dtype=int32, numpy=12>, <tf.Tensor: shape=(), dtype=int32, numpy=0>)\n",
      "(<tf.Tensor: shape=(), dtype=int32, numpy=23>, <tf.Tensor: shape=(), dtype=int32, numpy=1>)\n",
      "(<tf.Tensor: shape=(), dtype=int32, numpy=10>, <tf.Tensor: shape=(), dtype=int32, numpy=1>)\n",
      "(<tf.Tensor: shape=(), dtype=int32, numpy=17>, <tf.Tensor: shape=(), dtype=int32, numpy=0>)\n"
     ]
    }
   ],
   "source": [
    "for data in dataset:\n",
    "    print(data)"
   ]
  },
  {
   "cell_type": "code",
   "execution_count": 12,
   "id": "1260a4fa",
   "metadata": {},
   "outputs": [
    {
     "name": "stdout",
     "output_type": "stream",
     "text": [
      "tf.Tensor(1.4866068747318506, shape=(), dtype=float64)\n",
      "tf.Tensor(1.4142135623730951, shape=(), dtype=float64)\n",
      "tf.Tensor(0.0, shape=(), dtype=float64)\n",
      "tf.Tensor(0.1, shape=(), dtype=float64)\n"
     ]
    }
   ],
   "source": [
    "import tensorflow as tf\n",
    "from numpy import array, tile\n",
    "data_set = array([[1.0, 1.1], [1.0, 1.0], [0, 0], [0, 0.1]])\n",
    "labels = [\"A\", \"A\", \"B\", \"B\"]\n",
    "dats_set_size = data_set.shape[0]\n",
    "diff_mat = tf.subtract(data_set, tile(inx, (dats_set_size, 1)))\n",
    "square_diff_mat = tf.square(diff_mat)\n",
    "square_diff_mat_sum = tf.reduce_sum(square_diff_mat, axis=1)\n",
    "distance = tf.sqrt(square_diff_mat_sum)\n",
    "for data in distance:\n",
    "    print(data)"
   ]
  }
 ],
 "metadata": {
  "kernelspec": {
   "display_name": "Python 3 (ipykernel)",
   "language": "python",
   "name": "python3"
  },
  "language_info": {
   "codemirror_mode": {
    "name": "ipython",
    "version": 3
   },
   "file_extension": ".py",
   "mimetype": "text/x-python",
   "name": "python",
   "nbconvert_exporter": "python",
   "pygments_lexer": "ipython3",
   "version": "3.7.3"
  }
 },
 "nbformat": 4,
 "nbformat_minor": 5
}
